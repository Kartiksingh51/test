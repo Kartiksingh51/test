{
 "cells": [
  {
   "cell_type": "code",
   "execution_count": 1,
   "metadata": {},
   "outputs": [],
   "source": [
    "#startup command\n",
    "%load_ext sql"
   ]
  },
  {
   "cell_type": "code",
   "execution_count": 6,
   "metadata": {},
   "outputs": [],
   "source": [
    "#coding commence command\n",
    "%sql sqlite://"
   ]
  },
  {
   "cell_type": "code",
   "execution_count": 7,
   "metadata": {},
   "outputs": [],
   "source": [
    "#import library to create visualisation\n",
    "import matplotlib.pyplot as plt\n",
    "%matplotlib inline"
   ]
  },
  {
   "cell_type": "code",
   "execution_count": 8,
   "metadata": {},
   "outputs": [
    {
     "ename": "SyntaxError",
     "evalue": "invalid syntax (<ipython-input-8-7055fbea9bc4>, line 3)",
     "output_type": "error",
     "traceback": [
      "\u001b[1;36m  File \u001b[1;32m\"<ipython-input-8-7055fbea9bc4>\"\u001b[1;36m, line \u001b[1;32m3\u001b[0m\n\u001b[1;33m    CREATE TABLE CAR(name varchar(50), brand varchar(50), colour varchar(50), country varchar(50),type varchar(50),average,engine cc,ID, gear, sitting);\u001b[0m\n\u001b[1;37m           ^\u001b[0m\n\u001b[1;31mSyntaxError\u001b[0m\u001b[1;31m:\u001b[0m invalid syntax\n"
     ]
    }
   ],
   "source": [
    "#create database and insert values\n",
    "%%sql\n",
    "CREATE TABLE CAR(name varchar(50), brand varchar(50), colour varchar(50), country varchar(50),type varchar(50),average,engine cc,ID, gear, sitting);\n",
    "INSERT INTO CAR VALUES('city','honda','white','korea','sedan','20','2100','1','6','5');\n",
    "INSERT INTO CAR VALUES('verna','hyundai','black','africa','sedan','21','2200','2','6','5');\n",
    "INSERT INTO CAR VALUES('ciaz','maruti suzuki','silver','india','sedan','25','1800','3','5','5');\n",
    "INSERT INTO CAR VALUES('fortuner','toyota','brown','japnese','suv','12','5000','4','7','7');\n",
    "INSERT INTO CAR VALUES('endeavour','ford','white','british','suv','10','5500','5','7','7');\n",
    "INSERT INTO CAR VALUES('cross country','volvo','blue','germany','hatchback','8','4500','6','6','6');\n",
    "INSERT INTO CAR VALUES('polo','vw','red','germany','megna','17','1500','7','5','5');\n",
    "INSERT INTO CAR VALUES('GT','BMW','grey','USA','sedan','9','3200','8','7','4');\n",
    "INSERT INTO CAR VALUES('Q','Audi','yellow','UK','Quattro','8','3300','9','6','6');\n",
    "INSERT INTO CAR VALUES('GLA','Mercedes','grey','British','suv','8','6000','10','7','7');"
   ]
  },
  {
   "cell_type": "code",
   "execution_count": null,
   "metadata": {},
   "outputs": [],
   "source": []
  }
 ],
 "metadata": {
  "kernelspec": {
   "display_name": "Python 3",
   "language": "python",
   "name": "python3"
  },
  "language_info": {
   "codemirror_mode": {
    "name": "ipython",
    "version": 3
   },
   "file_extension": ".py",
   "mimetype": "text/x-python",
   "name": "python",
   "nbconvert_exporter": "python",
   "pygments_lexer": "ipython3",
   "version": "3.8.5"
  }
 },
 "nbformat": 4,
 "nbformat_minor": 4
}
